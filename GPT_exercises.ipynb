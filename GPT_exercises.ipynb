{
  "cells": [
    {
      "cell_type": "markdown",
      "source": [
        "#GPT exercises (GPT-3.5 or GPT-4)"
      ],
      "metadata": {
        "id": "xhR2huN5HDQW"
      }
    },
    {
      "cell_type": "markdown",
      "source": [
        "## Coding"
      ],
      "metadata": {
        "id": "-S6kpOSQPuBT"
      }
    },
    {
      "cell_type": "markdown",
      "source": [
        "The rules of FizzBuzz are as follows:\n",
        "\n",
        "Print the numbers from 1 to 100.\n",
        "For each number that is a multiple of 3, print “Fizz” instead of the number.\n",
        "For each number that is a multiple of 5, print “Buzz” instead of the number.\n",
        "For each number that is a multiple of both 3 and 5, print “FizzBuzz” instead of the number.\n",
        "\n",
        "So, in short, the program should output a sequence of numbers from 1 to 100, but replacing the numbers that are multiples of 3 with the word “Fizz”, replacing the multiples of 5 with the word “Buzz”, and replacing the multiples of both 3 and 5 with the word “FizzBuzz”.\n",
        "\n",
        "If these coding exercises are too easy for you. Try:\n",
        "- it in a language that you don't know\n",
        "- another exercise based on what you are doing at work"
      ],
      "metadata": {
        "id": "p2q1Oo5qHOgu"
      }
    },
    {
      "cell_type": "code",
      "execution_count": null,
      "metadata": {
        "id": "lIYdn1woOS1n",
        "colab": {
          "base_uri": "https://localhost:8080/"
        },
        "outputId": "0fca4e1b-1f43-4a3b-a0d0-734e13736ec8"
      },
      "outputs": [
        {
          "output_type": "stream",
          "name": "stdout",
          "text": [
            "1\n",
            "2\n",
            "fizz\n",
            "4\n"
          ]
        }
      ],
      "source": [
        "def fizzbuzz(number):\n",
        "    if number % 3 == 0:\n",
        "        return \"fizz\"\n",
        "    elif number % 5 == 0:\n",
        "        return \"buzz\"\n",
        "    elif number % 15 == 0:\n",
        "        return \"fizz buzz\"\n",
        "    else:\n",
        "        return number\n",
        "\n",
        "print(fizzbuzz(1))\n",
        "print(fizzbuzz(2))\n",
        "print(fizzbuzz(3))\n",
        "print(fizzbuzz(4))"
      ]
    },
    {
      "cell_type": "code",
      "source": [
        "print(fizzbuzz(11))\n",
        "print(fizzbuzz(12))\n",
        "print(fizzbuzz(13))\n",
        "print(fizzbuzz(14))\n",
        "print(fizzbuzz(15))"
      ],
      "metadata": {
        "colab": {
          "base_uri": "https://localhost:8080/"
        },
        "id": "LiDZz20hHpmH",
        "outputId": "a2e6eb15-7f99-45eb-b49d-85c9d3b7958a"
      },
      "execution_count": null,
      "outputs": [
        {
          "output_type": "stream",
          "name": "stdout",
          "text": [
            "11\n",
            "fizz\n",
            "13\n",
            "14\n",
            "fizz\n"
          ]
        }
      ]
    },
    {
      "cell_type": "markdown",
      "source": [
        "- fizzbuzz(15) should have printed out `fizz buzz` and not just `fizz`\n",
        "- Use ChatGPT to help troubleshoot and make changes to your code"
      ],
      "metadata": {
        "id": "2WN_Xr-dJmIq"
      }
    },
    {
      "cell_type": "code",
      "source": [
        "#Paste your corrected code here\n",
        "\n",
        "\n"
      ],
      "metadata": {
        "id": "vf3cldmBINvA"
      },
      "execution_count": null,
      "outputs": []
    },
    {
      "cell_type": "markdown",
      "source": [
        "- Use ChatGPT to create a docstring for fizzbuzz (This is brief documentation that explains what the function does, what arguments it takes in and what results it outputs)  "
      ],
      "metadata": {
        "id": "WT8OcisLLSor"
      }
    },
    {
      "cell_type": "code",
      "source": [
        "#Paste your new code here\n",
        "\n",
        "\n",
        "\n"
      ],
      "metadata": {
        "id": "CvPngMpwLnuA"
      },
      "execution_count": null,
      "outputs": []
    },
    {
      "cell_type": "markdown",
      "source": [
        "- Use ChatGPT to make the fizzbuzz code more Pythonic (a coding style that takes Python's features and makes the code more readable) "
      ],
      "metadata": {
        "id": "peNuuDVhM82j"
      }
    },
    {
      "cell_type": "code",
      "source": [
        "#Paste your new Pythonic code here\n",
        "\n",
        "\n",
        "\n"
      ],
      "metadata": {
        "id": "QhluZ3sDNRO6"
      },
      "execution_count": null,
      "outputs": []
    },
    {
      "cell_type": "markdown",
      "source": [
        "- Use ChatGPT to create 3 alternate solutions."
      ],
      "metadata": {
        "id": "GKfU-X4OMDu_"
      }
    },
    {
      "cell_type": "code",
      "source": [
        "#Paste the 3 alternate solutions here\n",
        "\n",
        "\n",
        "\n"
      ],
      "metadata": {
        "id": "xR367z4DMoMG"
      },
      "execution_count": null,
      "outputs": []
    },
    {
      "cell_type": "markdown",
      "source": [
        "## Explaining complex topics"
      ],
      "metadata": {
        "id": "djMHVE_DPyII"
      }
    },
    {
      "cell_type": "markdown",
      "source": [
        "- What does this mean? \"Pneumococcal Carriage and Seroepidemiology studies to measure current and future Pneumococcal Conjugate Vaccine Effectiveness\". Break the title down into chunks.\n",
        "- How does a colour camera work?\n",
        "- ..."
      ],
      "metadata": {
        "id": "NC3XmUZ_S1qF"
      }
    },
    {
      "cell_type": "markdown",
      "source": [
        "## Get other points of view"
      ],
      "metadata": {
        "id": "8z9Y8_CITtzU"
      }
    },
    {
      "cell_type": "markdown",
      "source": [
        "- What is an Air Up water bottle? What are the benefits of it? What are the possible problems with using it? Who are competitors to Air Up?\n",
        "- What are the benefits of Brexit? How has it improved things? What are the downsides?\n",
        "- When was Russia last at war with Ukraine? What are the risks/benefits of NATO getting involved? "
      ],
      "metadata": {
        "id": "2cP48a-uTw6x"
      }
    },
    {
      "cell_type": "markdown",
      "source": [
        "## ChatGPT failures"
      ],
      "metadata": {
        "id": "jGowclEF1V5e"
      }
    },
    {
      "cell_type": "markdown",
      "source": [
        "- https://arxiv.org/pdf/2302.03494.pdf\n",
        "- If you have access to GPT-4, which failures till apply?"
      ],
      "metadata": {
        "id": "SJcgamrv1aHg"
      }
    },
    {
      "cell_type": "code",
      "source": [],
      "metadata": {
        "id": "l6K2rk0TS09k"
      },
      "execution_count": null,
      "outputs": []
    }
  ],
  "metadata": {
    "colab": {
      "provenance": []
    },
    "kernelspec": {
      "display_name": "Python 3",
      "name": "python3"
    }
  },
  "nbformat": 4,
  "nbformat_minor": 0
}